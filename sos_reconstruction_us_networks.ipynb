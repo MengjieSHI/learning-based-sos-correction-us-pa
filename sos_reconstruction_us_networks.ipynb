{
  "cells": [
    {
      "cell_type": "markdown",
      "metadata": {
        "id": "view-in-github",
        "colab_type": "text"
      },
      "source": [
        "<a href=\"https://colab.research.google.com/github/MengjieSHI/learning-based-sos-correction-us-pa/blob/main/sos_reconstruction_us_networks.ipynb\" target=\"_parent\"><img src=\"https://colab.research.google.com/assets/colab-badge.svg\" alt=\"Open In Colab\"/></a>"
      ]
    },
    {
      "cell_type": "code",
      "execution_count": null,
      "metadata": {
        "id": "FkRf7OF75kOc",
        "colab": {
          "base_uri": "https://localhost:8080/"
        },
        "outputId": "8596ff07-03ee-459e-be0a-5cfce4ff0546"
      },
      "outputs": [
        {
          "output_type": "stream",
          "name": "stdout",
          "text": [
            "Drive already mounted at /content/drive; to attempt to forcibly remount, call drive.mount(\"/content/drive\", force_remount=True).\n"
          ]
        }
      ],
      "source": [
        "from google.colab import drive\n",
        "drive.mount('/content/drive')\n",
        "\n",
        "# import current working path \n",
        "import os\n",
        "os.chdir(\"drive/My Drive/us_sos\") \n",
        "#!ls"
      ]
    },
    {
      "cell_type": "code",
      "execution_count": null,
      "metadata": {
        "id": "0a30VBX5Lke3"
      },
      "outputs": [],
      "source": [
        "!pip install tensorflow==2.8.0"
      ]
    },
    {
      "cell_type": "code",
      "execution_count": null,
      "metadata": {
        "id": "K1uLXpY74vvz"
      },
      "outputs": [],
      "source": [
        "from tensorflow.python.ops.math_ops import truediv\n",
        "import numpy as np\n",
        "import tensorflow as tf\n",
        "import tensorflow.keras as keras\n",
        "from matplotlib import pyplot\n",
        "\n",
        "import h5py\n",
        "import os\n",
        "from sklearn.preprocessing import MinMaxScaler\n",
        "from scipy.io import savemat\n",
        "\n",
        "os.environ[\"CUDA_VISIBLE_DEVICES\"]=\"0\"\n",
        "\n",
        "def extract_signals(filename, signalName):\n",
        "    \"\"\"Extract the signals into a 4D float64 numpy array [index, y, x, depth] - [50, 128, 1024, 1]\"\"\"\n",
        "    fData = h5py.File(filename, 'r')\n",
        "    inData = fData.get(signalName)\n",
        "    print(inData.shape[0], inData.shape[1], inData.shape[2])\n",
        "    num_examples = inData.shape[0] # (number_examples, rows, cols)\n",
        "    rows = inData.shape[1]\n",
        "    cols = inData.shape[2]\n",
        "    print('Data size of:'+signalName)\n",
        "    print(num_examples, rows, cols)\n",
        "    data = np.array(inData)\n",
        "    data = data.reshape(num_examples, rows, cols, 1)\n",
        "    return data\n",
        "\n",
        "\n",
        "def encoder_block(l2=0,dropout=0):\n",
        "    '''fully connected neural network encoder part.\n",
        "\n",
        "        Args:\n",
        "          l2 (float): L2 regularization strength\n",
        "          dropout (float): Dropout rate\n",
        "\n",
        "        Returns:\n",
        "          (keras Model)\n",
        "        '''\n",
        "    ## Input\n",
        "    input_layer = keras.Input(shape=(128, 1024, 1), name='input',dtype='float32') # 128*1024*1\n",
        "\n",
        "    e0 = keras.layers.GaussianNoise(1)(input_layer)\n",
        "\n",
        "    # strided and 3*15 conv\n",
        "    e1 = keras.layers.Conv2D(filters=32, kernel_size=(3, 15), strides=(1, 2), padding='same', activation='LeakyReLU',\n",
        "                            kernel_initializer=keras.initializers.GlorotUniform(), name='encoder_conv1')(input_layer)\n",
        "    e1 = keras.layers.BatchNormalization()(e1, training=True)\n",
        "    # strided and 3*13 conv\n",
        "    e2 = keras.layers.Conv2D(filters=32, kernel_size=(3, 13), strides=(1, 2), padding='same', activation='LeakyReLU',\n",
        "                             kernel_initializer=keras.initializers.GlorotUniform(), name='encoder_conv2')(e1)\n",
        "    e2 = keras.layers.BatchNormalization()(e2, training=True)\n",
        "    # strided and 3*11 conv\n",
        "    e3 = keras.layers.Conv2D(filters=32, kernel_size=(3, 11), strides=(1, 2), padding='same', activation='LeakyReLU',\n",
        "                            kernel_initializer=keras.initializers.GlorotUniform(), name='encoder_conv3')(e2)\n",
        "    e3 = keras.layers.BatchNormalization()(e3, training=True)\n",
        "    # strided and 3*9 conv\n",
        "    e4 = keras.layers.Conv2D(filters=32, kernel_size=(3, 9), strides=(1, 2), padding='same', activation='LeakyReLU',\n",
        "                            kernel_initializer=keras.initializers.GlorotUniform(), name='encoder_conv4')(e3)\n",
        "    e4 = keras.layers.Dropout(rate=0.5, name='dropout4')(e4)\n",
        "    e4 = keras.layers.BatchNormalization()(e4, training=True)\n",
        "\n",
        "    # strided and 3*7 conv and maxpooling\n",
        "    e5 = keras.layers.Conv2D(filters=64, kernel_size=(3, 7), strides=(1, 1), padding='same', activation='LeakyReLU',\n",
        "                              kernel_initializer=keras.initializers.GlorotUniform(), name='encoder_conv5')(e4)\n",
        "    e5 = keras.layers.MaxPool2D(pool_size=(2, 2), strides=(2, 2), padding='valid', name='encoder_pool1')(e5)\n",
        "    e5 = keras.layers.Dropout(rate=0.5, name='dropout5')(e5)\n",
        "    e5 = keras.layers.BatchNormalization()(e5, training=True)\n",
        "    # strided and 3*5 conv and maxpooling\n",
        "    e6 = keras.layers.Conv2D(filters=128, kernel_size=(3, 5), strides=(1, 1), padding='same', activation='LeakyReLU',\n",
        "                              kernel_initializer=keras.initializers.GlorotUniform(), name='encoder_conv6')(e5)\n",
        "    e6 = keras.layers.MaxPool2D(pool_size=(2, 2), strides=(2, 2), padding='valid', name='encoder_pool2')(e6)\n",
        "    e6 = keras.layers.BatchNormalization()(e6, training=True)\n",
        "    # strided and 3*3 conv and maxpooling\n",
        "    e7 = keras.layers.Conv2D(filters=512, kernel_size=(3, 3), strides=(1, 1), padding='same', activation='LeakyReLU',\n",
        "                             kernel_initializer=keras.initializers.GlorotUniform(), name='encoder_conv7')(e6)\n",
        "    e7 = keras.layers.MaxPool2D(pool_size=(2, 2), strides=(2, 2), padding='valid', name='encoder_pool3')(e7)\n",
        "    e7 = keras.layers.Dropout(rate=0.5, name='dropout7')(e7)\n",
        "    #e7 = keras.layers.BatchNormalization()(e7, training=True)\n",
        "    model = keras.Model(input_layer, e7)\n",
        "    model.summary()\n",
        "\n",
        "    return model\n",
        "\n",
        "def decoder_block(encoder_block, l2=0):\n",
        "    ''' upsampled FCN.\n",
        "\n",
        "        Args:\n",
        "          encoder_block (keras Model): encoder model to build upon\n",
        "          l2 (float): L2 regularization strength\n",
        "\n",
        "        Returns:\n",
        "          (keras Model)\n",
        "        '''\n",
        "    # 3*3 conv + 2d interpolate\n",
        "    d1 = keras.layers.Conv2D(filters=128, kernel_size=(3, 3), strides=(1, 1), padding='same', activation='LeakyReLU',\n",
        "                            kernel_initializer=keras.initializers.GlorotUniform(),\n",
        "                            name='decoder_conv1')(encoder_block.get_layer('encoder_pool3').output)\n",
        "    d2 = keras.layers.UpSampling2D(size=(2, 2),interpolation='bilinear')(d1)\n",
        "    d2 = keras.layers.BatchNormalization()(d2, training=True) \n",
        "    # merge\n",
        "    d3 = keras.layers.Concatenate()([encoder_block.get_layer('encoder_pool2').output, d2])\n",
        "\n",
        "    # 3*5 conv + 2d interpolate\n",
        "    d4 = keras.layers.Conv2D(filters=64, kernel_size=(3, 5), strides=(1, 1), padding='same', activation='LeakyReLU',\n",
        "                             kernel_initializer=keras.initializers.GlorotUniform(),\n",
        "                             name='decoder_conv2')(d3)\n",
        "    d5 = keras.layers.UpSampling2D(size=(2, 2),interpolation='bilinear')(d4)\n",
        "    d5 = keras.layers.BatchNormalization()(d5, training=True)\n",
        "    d6 = keras.layers.Concatenate()([encoder_block.get_layer('encoder_pool1').output, d5])\n",
        "\n",
        "    # 3*7 conv + 2d interpolate\n",
        "    d7 = keras.layers.Conv2D(filters=32, kernel_size=(3, 7), strides=(1, 1), padding='same', activation='LeakyReLU',\n",
        "                             kernel_initializer=keras.initializers.GlorotUniform(),\n",
        "                             name ='decoder_conv3')(d6)\n",
        "    d8 = keras.layers.UpSampling2D(size=(2, 2),interpolation='bilinear')(d7)\n",
        "    d8 = keras.layers.BatchNormalization()(d8, training=True)\n",
        "    d9 = keras.layers.Concatenate()([encoder_block.get_layer('encoder_conv4').output, d8])\n",
        "\n",
        "    # 3* 9 conv + 2d interpolate\n",
        "    d10 = keras.layers.Conv2D(filters=32, kernel_size=(3, 9), strides=(1, 1), padding='same', activation='LeakyReLU',\n",
        "                              kernel_initializer=keras.initializers.GlorotUniform(),\n",
        "                              name = 'decoder_conv4')(d9)\n",
        "    d11 = keras.layers.UpSampling2D(size=(2, 2),interpolation='bilinear')(d10) # 32*128*256\n",
        "    d11 = keras.layers.BatchNormalization()(d11, training=True)\n",
        "    # conv. + interpolate + (bn)\n",
        "    d12 = keras.layers.Conv2D(filters=32, kernel_size=(3, 11), strides=(1, 1), padding='same', activation='LeakyReLU',\n",
        "                              kernel_initializer=keras.initializers.GlorotUniform(),\n",
        "                              name='decoder_conv5')(d11)\n",
        "    #d12 = keras.layers.UpSampling2D(size=(2,2))(d12) # 32*256*512        \n",
        "    d13 = keras.layers.Resizing(384, 384, interpolation=\"bilinear\", crop_to_aspect_ratio=False)(d12)\n",
        "    #d13 = tf.image.resize(d12, [318, 318]) #\n",
        "    d13 = keras.layers.BatchNormalization()(d13, training=True)\n",
        "    #\n",
        "    d14 = keras.layers.Conv2D(filters=32, kernel_size=(3, 3), strides=(1, 1), padding='same', activation='LeakyReLU',\n",
        "                              kernel_initializer=keras.initializers.GlorotUniform(),\n",
        "                              name='decoder_conv6')(d13)\n",
        "    d14 = keras.layers.BatchNormalization()(d14, training=True)\n",
        "    # 1* 384*384\n",
        "    d15 = keras.layers.Conv2D(filters=1, kernel_size=(1, 1), strides=(1, 1), padding='same',\n",
        "                              kernel_initializer=keras.initializers.GlorotUniform(),\n",
        "                              name='decoder_conv7')(d14)\n",
        "\n",
        "\n",
        "    model = keras.Model(encoder_block.input, d15)\n",
        "    opt = keras.optimizers.legacy.SGD(learning_rate=1e-5, decay=1e-5,momentum=0.9)\n",
        "    loss_fn = keras.losses.MeanSquaredError(reduction='sum_over_batch_size')\n",
        "    \n",
        "    model.compile(optimizer=opt, loss=tf.losses.mean_squared_error, metrics=keras.metrics.RootMeanSquaredError())\n",
        "    model.summary()\n",
        "    return model\n",
        "\n"
      ]
    },
    {
      "cell_type": "code",
      "execution_count": null,
      "metadata": {
        "id": "JraUfX7900Xy"
      },
      "outputs": [],
      "source": [
        "encoder_part = encoder_block(l2=1e-5, dropout=0.2)\n",
        "built_model = decoder_block(encoder_part, l2=1e-5)"
      ]
    },
    {
      "cell_type": "code",
      "execution_count": null,
      "metadata": {
        "colab": {
          "base_uri": "https://localhost:8080/"
        },
        "id": "mIoQeOkx7B1B",
        "outputId": "d49dfd70-21b4-4e91-f7e2-cc066f97dda9"
      },
      "outputs": [
        {
          "output_type": "stream",
          "name": "stdout",
          "text": [
            "6000 128 1024\n",
            "Data size of:no_filtered_rf_norm_noisy\n",
            "6000 128 1024\n",
            "6000 384 384\n",
            "Data size of:sos_map_d2\n",
            "6000 384 384\n"
          ]
        }
      ],
      "source": [
        "# load dataset \n",
        "# load rf data \n",
        "data_input = extract_signals('us_simulated_rf_1511_1603_1_2_6000_training.mat','no_filtered_rf_norm_noisy')\n",
        "# load sos maps \n",
        "data_target = extract_signals('us_simulated_rf_1511_1603_1_2_6000_training.mat','sos_map_d2').astype('uint16')\n",
        "\n"
      ]
    },
    {
      "cell_type": "code",
      "execution_count": null,
      "metadata": {
        "id": "uHPkMIOK4-NC",
        "colab": {
          "base_uri": "https://localhost:8080/"
        },
        "outputId": "ddaeb84c-1950-4905-81c7-3aa06b8d36fa"
      },
      "outputs": [
        {
          "output_type": "stream",
          "name": "stdout",
          "text": [
            "Epoch 1/100\n",
            "480/480 [==============================] - 116s 216ms/step - loss: 144248.5469 - root_mean_squared_error: 379.8009 - val_loss: 2138.4199 - val_root_mean_squared_error: 46.2431\n",
            "Epoch 2/100\n",
            "480/480 [==============================] - 101s 211ms/step - loss: 1624.6964 - root_mean_squared_error: 40.3075 - val_loss: 1664.2994 - val_root_mean_squared_error: 40.7958\n",
            "Epoch 3/100\n",
            "480/480 [==============================] - 101s 211ms/step - loss: 1343.4644 - root_mean_squared_error: 36.6533 - val_loss: 1376.1865 - val_root_mean_squared_error: 37.0970\n",
            "Epoch 4/100\n",
            "480/480 [==============================] - 101s 211ms/step - loss: 1220.9364 - root_mean_squared_error: 34.9419 - val_loss: 1260.3297 - val_root_mean_squared_error: 35.5011\n",
            "Epoch 5/100\n",
            "480/480 [==============================] - 101s 211ms/step - loss: 1128.2589 - root_mean_squared_error: 33.5896 - val_loss: 1108.6431 - val_root_mean_squared_error: 33.2963\n",
            "Epoch 6/100\n",
            "480/480 [==============================] - 101s 211ms/step - loss: 1101.5643 - root_mean_squared_error: 33.1898 - val_loss: 1154.8557 - val_root_mean_squared_error: 33.9832\n",
            "Epoch 7/100\n",
            "480/480 [==============================] - 101s 211ms/step - loss: 944.9798 - root_mean_squared_error: 30.7405 - val_loss: 1134.3240 - val_root_mean_squared_error: 33.6797\n",
            "Epoch 8/100\n",
            "480/480 [==============================] - 101s 211ms/step - loss: 938.3297 - root_mean_squared_error: 30.6322 - val_loss: 987.7606 - val_root_mean_squared_error: 31.4287\n",
            "Epoch 9/100\n",
            "480/480 [==============================] - 101s 211ms/step - loss: 897.3439 - root_mean_squared_error: 29.9557 - val_loss: 939.4141 - val_root_mean_squared_error: 30.6499\n",
            "Epoch 10/100\n",
            "480/480 [==============================] - 101s 211ms/step - loss: 908.5374 - root_mean_squared_error: 30.1420 - val_loss: 997.7946 - val_root_mean_squared_error: 31.5879\n",
            "Epoch 11/100\n",
            "480/480 [==============================] - 101s 211ms/step - loss: 857.6351 - root_mean_squared_error: 29.2854 - val_loss: 1245.0356 - val_root_mean_squared_error: 35.2851\n",
            "Epoch 12/100\n",
            "480/480 [==============================] - 101s 211ms/step - loss: 923.7895 - root_mean_squared_error: 30.3939 - val_loss: 1253.0139 - val_root_mean_squared_error: 35.3979\n",
            "Epoch 13/100\n",
            "480/480 [==============================] - 101s 211ms/step - loss: 818.2210 - root_mean_squared_error: 28.6046 - val_loss: 980.7714 - val_root_mean_squared_error: 31.3173\n",
            "Epoch 14/100\n",
            "480/480 [==============================] - 101s 211ms/step - loss: 896.1427 - root_mean_squared_error: 29.9356 - val_loss: 1298.2412 - val_root_mean_squared_error: 36.0311\n",
            "Epoch 15/100\n",
            "480/480 [==============================] - 101s 211ms/step - loss: 777.1433 - root_mean_squared_error: 27.8773 - val_loss: 983.4270 - val_root_mean_squared_error: 31.3596\n",
            "Epoch 16/100\n",
            "480/480 [==============================] - 101s 211ms/step - loss: 810.6767 - root_mean_squared_error: 28.4724 - val_loss: 887.3769 - val_root_mean_squared_error: 29.7889\n",
            "Epoch 17/100\n",
            "480/480 [==============================] - 101s 211ms/step - loss: 807.9387 - root_mean_squared_error: 28.4243 - val_loss: 840.2305 - val_root_mean_squared_error: 28.9867\n",
            "Epoch 18/100\n",
            "480/480 [==============================] - 101s 211ms/step - loss: 727.4485 - root_mean_squared_error: 26.9713 - val_loss: 871.3544 - val_root_mean_squared_error: 29.5187\n",
            "Epoch 19/100\n",
            "480/480 [==============================] - 101s 211ms/step - loss: 772.9117 - root_mean_squared_error: 27.8013 - val_loss: 903.5317 - val_root_mean_squared_error: 30.0588\n",
            "Epoch 20/100\n",
            "480/480 [==============================] - 101s 211ms/step - loss: 716.9790 - root_mean_squared_error: 26.7765 - val_loss: 885.2658 - val_root_mean_squared_error: 29.7534\n",
            "Epoch 21/100\n",
            "480/480 [==============================] - 101s 211ms/step - loss: 804.3450 - root_mean_squared_error: 28.3610 - val_loss: 816.6046 - val_root_mean_squared_error: 28.5763\n",
            "Epoch 22/100\n",
            "480/480 [==============================] - 101s 211ms/step - loss: 679.7258 - root_mean_squared_error: 26.0715 - val_loss: 805.1379 - val_root_mean_squared_error: 28.3750\n",
            "Epoch 23/100\n",
            "480/480 [==============================] - 101s 211ms/step - loss: 730.4675 - root_mean_squared_error: 27.0272 - val_loss: 785.8596 - val_root_mean_squared_error: 28.0332\n",
            "Epoch 24/100\n",
            "480/480 [==============================] - 101s 211ms/step - loss: 740.3662 - root_mean_squared_error: 27.2097 - val_loss: 772.6302 - val_root_mean_squared_error: 27.7962\n",
            "Epoch 25/100\n",
            "480/480 [==============================] - 101s 211ms/step - loss: 758.8502 - root_mean_squared_error: 27.5472 - val_loss: 939.8520 - val_root_mean_squared_error: 30.6570\n",
            "Epoch 26/100\n",
            "480/480 [==============================] - 101s 211ms/step - loss: 728.2247 - root_mean_squared_error: 26.9856 - val_loss: 831.9192 - val_root_mean_squared_error: 28.8430\n",
            "Epoch 27/100\n",
            "480/480 [==============================] - 101s 211ms/step - loss: 794.6574 - root_mean_squared_error: 28.1897 - val_loss: 801.0475 - val_root_mean_squared_error: 28.3028\n",
            "Epoch 28/100\n",
            "480/480 [==============================] - 101s 211ms/step - loss: 751.6858 - root_mean_squared_error: 27.4169 - val_loss: 1016.5496 - val_root_mean_squared_error: 31.8834\n",
            "Epoch 29/100\n",
            "480/480 [==============================] - 101s 211ms/step - loss: 714.9566 - root_mean_squared_error: 26.7387 - val_loss: 814.5988 - val_root_mean_squared_error: 28.5412\n",
            "Epoch 30/100\n",
            "480/480 [==============================] - 101s 211ms/step - loss: 684.1963 - root_mean_squared_error: 26.1571 - val_loss: 826.7614 - val_root_mean_squared_error: 28.7535\n",
            "Epoch 31/100\n",
            "480/480 [==============================] - 101s 211ms/step - loss: 680.0190 - root_mean_squared_error: 26.0772 - val_loss: 810.8875 - val_root_mean_squared_error: 28.4761\n",
            "Epoch 32/100\n",
            "480/480 [==============================] - 101s 211ms/step - loss: 660.0221 - root_mean_squared_error: 25.6909 - val_loss: 748.0604 - val_root_mean_squared_error: 27.3507\n",
            "Epoch 33/100\n",
            "480/480 [==============================] - 101s 211ms/step - loss: 634.9709 - root_mean_squared_error: 25.1986 - val_loss: 805.6296 - val_root_mean_squared_error: 28.3836\n",
            "Epoch 34/100\n",
            "480/480 [==============================] - 101s 211ms/step - loss: 608.3599 - root_mean_squared_error: 24.6649 - val_loss: 751.4456 - val_root_mean_squared_error: 27.4125\n",
            "Epoch 35/100\n",
            "480/480 [==============================] - 101s 211ms/step - loss: 697.8197 - root_mean_squared_error: 26.4163 - val_loss: 741.4337 - val_root_mean_squared_error: 27.2293\n",
            "Epoch 36/100\n",
            "480/480 [==============================] - 101s 211ms/step - loss: 632.9937 - root_mean_squared_error: 25.1594 - val_loss: 741.3562 - val_root_mean_squared_error: 27.2279\n",
            "Epoch 37/100\n",
            "480/480 [==============================] - 101s 211ms/step - loss: 629.2531 - root_mean_squared_error: 25.0849 - val_loss: 1119.7183 - val_root_mean_squared_error: 33.4622\n",
            "Epoch 38/100\n",
            "480/480 [==============================] - 101s 211ms/step - loss: 627.8797 - root_mean_squared_error: 25.0575 - val_loss: 784.0048 - val_root_mean_squared_error: 28.0001\n",
            "Epoch 39/100\n",
            "480/480 [==============================] - 101s 211ms/step - loss: 676.7971 - root_mean_squared_error: 26.0153 - val_loss: 767.1649 - val_root_mean_squared_error: 27.6977\n",
            "Epoch 40/100\n",
            "480/480 [==============================] - 101s 211ms/step - loss: 669.1757 - root_mean_squared_error: 25.8684 - val_loss: 717.5761 - val_root_mean_squared_error: 26.7876\n",
            "Epoch 41/100\n",
            "480/480 [==============================] - 101s 211ms/step - loss: 678.2741 - root_mean_squared_error: 26.0437 - val_loss: 1076.0594 - val_root_mean_squared_error: 32.8033\n",
            "Epoch 42/100\n",
            "480/480 [==============================] - 104s 217ms/step - loss: 579.1853 - root_mean_squared_error: 24.0663 - val_loss: 741.4736 - val_root_mean_squared_error: 27.2300\n",
            "Epoch 43/100\n",
            "480/480 [==============================] - 101s 211ms/step - loss: 626.1629 - root_mean_squared_error: 25.0233 - val_loss: 748.3754 - val_root_mean_squared_error: 27.3565\n",
            "Epoch 44/100\n",
            "480/480 [==============================] - 101s 211ms/step - loss: 681.6854 - root_mean_squared_error: 26.1091 - val_loss: 847.0511 - val_root_mean_squared_error: 29.1041\n",
            "Epoch 45/100\n",
            "480/480 [==============================] - 101s 211ms/step - loss: 628.6480 - root_mean_squared_error: 25.0729 - val_loss: 983.7204 - val_root_mean_squared_error: 31.3643\n",
            "Epoch 46/100\n",
            "480/480 [==============================] - 101s 211ms/step - loss: 621.6511 - root_mean_squared_error: 24.9329 - val_loss: 963.1904 - val_root_mean_squared_error: 31.0353\n",
            "Epoch 47/100\n",
            "480/480 [==============================] - 101s 211ms/step - loss: 550.6188 - root_mean_squared_error: 23.4653 - val_loss: 801.5066 - val_root_mean_squared_error: 28.3109\n",
            "Epoch 48/100\n",
            "480/480 [==============================] - 101s 211ms/step - loss: 609.5781 - root_mean_squared_error: 24.6896 - val_loss: 799.3791 - val_root_mean_squared_error: 28.2733\n",
            "Epoch 49/100\n",
            "480/480 [==============================] - 101s 211ms/step - loss: 631.6823 - root_mean_squared_error: 25.1333 - val_loss: 1001.4180 - val_root_mean_squared_error: 31.6452\n",
            "Epoch 50/100\n",
            "480/480 [==============================] - 104s 217ms/step - loss: 593.7952 - root_mean_squared_error: 24.3679 - val_loss: 713.3979 - val_root_mean_squared_error: 26.7095\n",
            "Epoch 51/100\n",
            "480/480 [==============================] - 101s 211ms/step - loss: 619.7997 - root_mean_squared_error: 24.8958 - val_loss: 703.6636 - val_root_mean_squared_error: 26.5267\n",
            "Epoch 52/100\n",
            "480/480 [==============================] - 101s 211ms/step - loss: 577.0971 - root_mean_squared_error: 24.0229 - val_loss: 752.6973 - val_root_mean_squared_error: 27.4353\n",
            "Epoch 53/100\n",
            "480/480 [==============================] - 101s 211ms/step - loss: 572.3015 - root_mean_squared_error: 23.9228 - val_loss: 699.4906 - val_root_mean_squared_error: 26.4479\n",
            "Epoch 54/100\n",
            "480/480 [==============================] - 101s 211ms/step - loss: 612.9571 - root_mean_squared_error: 24.7580 - val_loss: 748.8694 - val_root_mean_squared_error: 27.3655\n",
            "Epoch 55/100\n",
            "480/480 [==============================] - 101s 211ms/step - loss: 615.8994 - root_mean_squared_error: 24.8173 - val_loss: 731.9183 - val_root_mean_squared_error: 27.0540\n",
            "Epoch 56/100\n",
            "480/480 [==============================] - 101s 211ms/step - loss: 583.4313 - root_mean_squared_error: 24.1543 - val_loss: 716.9625 - val_root_mean_squared_error: 26.7762\n",
            "Epoch 57/100\n",
            "480/480 [==============================] - 101s 211ms/step - loss: 520.1200 - root_mean_squared_error: 22.8061 - val_loss: 1043.8217 - val_root_mean_squared_error: 32.3082\n",
            "Epoch 58/100\n",
            "480/480 [==============================] - 101s 211ms/step - loss: 553.9018 - root_mean_squared_error: 23.5351 - val_loss: 730.3933 - val_root_mean_squared_error: 27.0258\n",
            "Epoch 59/100\n",
            "480/480 [==============================] - 101s 211ms/step - loss: 536.1034 - root_mean_squared_error: 23.1539 - val_loss: 829.5635 - val_root_mean_squared_error: 28.8021\n",
            "Epoch 60/100\n",
            "480/480 [==============================] - 101s 211ms/step - loss: 614.1257 - root_mean_squared_error: 24.7816 - val_loss: 813.4803 - val_root_mean_squared_error: 28.5216\n",
            "Epoch 61/100\n",
            "480/480 [==============================] - 101s 211ms/step - loss: 582.7779 - root_mean_squared_error: 24.1408 - val_loss: 958.1181 - val_root_mean_squared_error: 30.9535\n",
            "Epoch 62/100\n",
            "480/480 [==============================] - 101s 211ms/step - loss: 537.8058 - root_mean_squared_error: 23.1906 - val_loss: 998.0963 - val_root_mean_squared_error: 31.5927\n",
            "Epoch 63/100\n",
            "480/480 [==============================] - 101s 211ms/step - loss: 605.9733 - root_mean_squared_error: 24.6165 - val_loss: 765.4741 - val_root_mean_squared_error: 27.6672\n",
            "Epoch 64/100\n",
            "480/480 [==============================] - 101s 211ms/step - loss: 566.2285 - root_mean_squared_error: 23.7956 - val_loss: 714.4678 - val_root_mean_squared_error: 26.7295\n",
            "Epoch 65/100\n",
            "480/480 [==============================] - 101s 211ms/step - loss: 552.1234 - root_mean_squared_error: 23.4973 - val_loss: 695.1653 - val_root_mean_squared_error: 26.3660\n",
            "Epoch 66/100\n",
            "480/480 [==============================] - 101s 211ms/step - loss: 597.9324 - root_mean_squared_error: 24.4527 - val_loss: 711.0928 - val_root_mean_squared_error: 26.6663\n",
            "Epoch 67/100\n",
            "480/480 [==============================] - 101s 211ms/step - loss: 600.3358 - root_mean_squared_error: 24.5018 - val_loss: 683.4920 - val_root_mean_squared_error: 26.1437\n",
            "Epoch 68/100\n",
            "480/480 [==============================] - 101s 211ms/step - loss: 598.8959 - root_mean_squared_error: 24.4724 - val_loss: 707.9843 - val_root_mean_squared_error: 26.6080\n",
            "Epoch 69/100\n",
            "480/480 [==============================] - 101s 211ms/step - loss: 614.1152 - root_mean_squared_error: 24.7813 - val_loss: 945.0886 - val_root_mean_squared_error: 30.7423\n",
            "Epoch 70/100\n",
            "480/480 [==============================] - 101s 211ms/step - loss: 550.4166 - root_mean_squared_error: 23.4610 - val_loss: 800.2524 - val_root_mean_squared_error: 28.2887\n",
            "Epoch 71/100\n",
            "480/480 [==============================] - 101s 211ms/step - loss: 578.5403 - root_mean_squared_error: 24.0529 - val_loss: 826.2008 - val_root_mean_squared_error: 28.7437\n",
            "Epoch 72/100\n",
            "480/480 [==============================] - 101s 211ms/step - loss: 549.0699 - root_mean_squared_error: 23.4322 - val_loss: 708.4036 - val_root_mean_squared_error: 26.6158\n",
            "Epoch 73/100\n",
            "480/480 [==============================] - 101s 211ms/step - loss: 590.9255 - root_mean_squared_error: 24.3090 - val_loss: 703.4750 - val_root_mean_squared_error: 26.5231\n",
            "Epoch 74/100\n",
            "480/480 [==============================] - 101s 211ms/step - loss: 593.5991 - root_mean_squared_error: 24.3639 - val_loss: 715.2159 - val_root_mean_squared_error: 26.7435\n",
            "Epoch 75/100\n",
            "480/480 [==============================] - 101s 211ms/step - loss: 531.1495 - root_mean_squared_error: 23.0467 - val_loss: 700.8645 - val_root_mean_squared_error: 26.4738\n",
            "Epoch 76/100\n",
            "480/480 [==============================] - 101s 211ms/step - loss: 575.8684 - root_mean_squared_error: 23.9973 - val_loss: 708.4548 - val_root_mean_squared_error: 26.6168\n",
            "Epoch 77/100\n",
            "480/480 [==============================] - 101s 211ms/step - loss: 566.8586 - root_mean_squared_error: 23.8088 - val_loss: 1018.1046 - val_root_mean_squared_error: 31.9078\n",
            "Epoch 78/100\n",
            "480/480 [==============================] - 101s 211ms/step - loss: 536.1238 - root_mean_squared_error: 23.1543 - val_loss: 693.0219 - val_root_mean_squared_error: 26.3253\n",
            "Epoch 79/100\n",
            "480/480 [==============================] - 101s 211ms/step - loss: 598.0823 - root_mean_squared_error: 24.4557 - val_loss: 757.7939 - val_root_mean_squared_error: 27.5281\n",
            "Epoch 80/100\n",
            "480/480 [==============================] - 101s 211ms/step - loss: 544.6005 - root_mean_squared_error: 23.3367 - val_loss: 1159.1766 - val_root_mean_squared_error: 34.0467\n",
            "Epoch 81/100\n",
            "480/480 [==============================] - 101s 211ms/step - loss: 570.2905 - root_mean_squared_error: 23.8807 - val_loss: 751.6446 - val_root_mean_squared_error: 27.4161\n",
            "Epoch 82/100\n",
            "480/480 [==============================] - 101s 211ms/step - loss: 541.5310 - root_mean_squared_error: 23.2708 - val_loss: 1023.0954 - val_root_mean_squared_error: 31.9859\n",
            "Epoch 83/100\n",
            "480/480 [==============================] - 104s 217ms/step - loss: 580.3244 - root_mean_squared_error: 24.0899 - val_loss: 760.6939 - val_root_mean_squared_error: 27.5807\n",
            "Epoch 84/100\n",
            "480/480 [==============================] - 101s 211ms/step - loss: 532.9686 - root_mean_squared_error: 23.0861 - val_loss: 729.7294 - val_root_mean_squared_error: 27.0135\n",
            "Epoch 85/100\n",
            "480/480 [==============================] - 101s 211ms/step - loss: 579.1265 - root_mean_squared_error: 24.0650 - val_loss: 720.4973 - val_root_mean_squared_error: 26.8421\n",
            "Epoch 86/100\n",
            "480/480 [==============================] - 101s 211ms/step - loss: 554.7465 - root_mean_squared_error: 23.5531 - val_loss: 779.4089 - val_root_mean_squared_error: 27.9179\n",
            "Epoch 87/100\n",
            "480/480 [==============================] - 101s 211ms/step - loss: 578.5284 - root_mean_squared_error: 24.0526 - val_loss: 819.5295 - val_root_mean_squared_error: 28.6274\n",
            "Epoch 88/100\n",
            "480/480 [==============================] - 101s 211ms/step - loss: 556.9455 - root_mean_squared_error: 23.5997 - val_loss: 747.5679 - val_root_mean_squared_error: 27.3417\n",
            "Epoch 89/100\n",
            "480/480 [==============================] - 101s 211ms/step - loss: 539.6779 - root_mean_squared_error: 23.2310 - val_loss: 715.2218 - val_root_mean_squared_error: 26.7436\n",
            "Epoch 90/100\n",
            "480/480 [==============================] - 101s 211ms/step - loss: 538.6415 - root_mean_squared_error: 23.2087 - val_loss: 695.8263 - val_root_mean_squared_error: 26.3785\n",
            "Epoch 91/100\n",
            "480/480 [==============================] - 101s 211ms/step - loss: 521.7388 - root_mean_squared_error: 22.8416 - val_loss: 789.0936 - val_root_mean_squared_error: 28.0908\n",
            "Epoch 92/100\n",
            "480/480 [==============================] - 101s 211ms/step - loss: 542.9737 - root_mean_squared_error: 23.3018 - val_loss: 726.8135 - val_root_mean_squared_error: 26.9595\n",
            "Epoch 93/100\n",
            "480/480 [==============================] - 101s 211ms/step - loss: 562.5596 - root_mean_squared_error: 23.7183 - val_loss: 722.8157 - val_root_mean_squared_error: 26.8852\n",
            "Epoch 94/100\n",
            "480/480 [==============================] - 101s 211ms/step - loss: 534.2345 - root_mean_squared_error: 23.1135 - val_loss: 676.4265 - val_root_mean_squared_error: 26.0082\n",
            "Epoch 95/100\n",
            "480/480 [==============================] - 101s 211ms/step - loss: 493.0100 - root_mean_squared_error: 22.2038 - val_loss: 719.6479 - val_root_mean_squared_error: 26.8263\n",
            "Epoch 96/100\n",
            "480/480 [==============================] - 101s 211ms/step - loss: 564.8489 - root_mean_squared_error: 23.7665 - val_loss: 855.2620 - val_root_mean_squared_error: 29.2449\n",
            "Epoch 97/100\n",
            "480/480 [==============================] - 101s 211ms/step - loss: 532.9028 - root_mean_squared_error: 23.0847 - val_loss: 800.3574 - val_root_mean_squared_error: 28.2906\n",
            "Epoch 98/100\n",
            "480/480 [==============================] - 101s 211ms/step - loss: 533.3871 - root_mean_squared_error: 23.0952 - val_loss: 691.7235 - val_root_mean_squared_error: 26.3006\n",
            "Epoch 99/100\n",
            "480/480 [==============================] - 101s 211ms/step - loss: 513.8648 - root_mean_squared_error: 22.6686 - val_loss: 722.6122 - val_root_mean_squared_error: 26.8814\n",
            "Epoch 100/100\n",
            "480/480 [==============================] - 101s 211ms/step - loss: 524.6123 - root_mean_squared_error: 22.9044 - val_loss: 715.2662 - val_root_mean_squared_error: 26.7445\n"
          ]
        }
      ],
      "source": [
        "# training \n",
        "history = built_model.fit(data_input, data_target, batch_size=10, epochs=100, verbose=1, validation_split=0.2,shuffle=True) # initial batch size 10 \n",
        "built_model.save('savedmodel_nofil_lr1e-5_bs10_val0.2_dp0.5_ep100_Gnoise1_data15116000_model2703_1514.h5') "
      ]
    },
    {
      "cell_type": "code",
      "execution_count": null,
      "metadata": {
        "colab": {
          "base_uri": "https://localhost:8080/",
          "height": 295
        },
        "id": "G4SjZP76DHKw",
        "outputId": "2aacd622-cf1e-4e62-9b64-3f9541797cf0"
      },
      "outputs": [
        {
          "output_type": "display_data",
          "data": {
            "text/plain": [
              "<Figure size 432x288 with 1 Axes>"
            ],
            "image/png": "[encoded data removed]"
          },
          "metadata": {
            "needs_background": "light"
          }
        }
      ],
      "source": [
        "\n",
        "pyplot.plot(history.history['root_mean_squared_error'])\n",
        "pyplot.plot(history.history['val_root_mean_squared_error'])\n",
        "pyplot.title('RMSE loss')\n",
        "pyplot.ylabel('loss')\n",
        "pyplot.xlabel('epoch')\n",
        "pyplot.ylim([0, 200])\n",
        "pyplot.legend(['train', 'val'], loc='upper right')\n",
        "pyplot.show()"
      ]
    },
    {
      "cell_type": "code",
      "execution_count": null,
      "metadata": {
        "id": "dcwfOh8cPDIs"
      },
      "outputs": [],
      "source": [
        "# visual the output\n",
        "trained_model = keras.models.load_model('./savedmodel_nofil_lr1e-5_bs10_val0.1_dp0.5_ep100_Gnoise1_data15116000_model2703_1055.h5')\n",
        "\n",
        "predicted_output_valid = trained_model.predict_on_batch(data_input[1000:1020,:,:,:])\n",
        "predicted_output_train = trained_model.predict_on_batch(data_input[0:20,:,:,:])\n"
      ]
    },
    {
      "cell_type": "code",
      "execution_count": null,
      "metadata": {
        "id": "6NbeuVNJshAb",
        "colab": {
          "base_uri": "https://localhost:8080/",
          "height": 137
        },
        "outputId": "a51380e6-9ef9-4305-ff47-bc0cc367cf02"
      },
      "outputs": [
        {
          "output_type": "display_data",
          "data": {
            "text/plain": [
              "<Figure size 432x288 with 4 Axes>"
            ],
            "image/png": "[encoded data removed]"
          },
          "metadata": {
            "needs_background": "light"
          }
        }
      ],
      "source": [
        "# data \n",
        "n_img =3;\n",
        "pyplot.subplot(1,4,1)\n",
        "pyplot.imshow(tf.squeeze(data_target[n_img,:,:,:].round()))\n",
        "pyplot.title('gt_train')\n",
        "pyplot.subplot(1,4,2)\n",
        "pyplot.imshow(tf.squeeze(predicted_output_train[n_img,:,:,:].round()))\n",
        "pyplot.title('output_on_train')\n",
        "pyplot.subplot(1,4,3)\n",
        "pyplot.imshow(tf.squeeze(data_target[n_img+1000,:,:,:]))\n",
        "pyplot.title('gt_valid')\n",
        "pyplot.subplot(1,4,4)\n",
        "pyplot.imshow(tf.squeeze(predicted_output_valid[n_img,:,:,:]))\n",
        "pyplot.title('output_on_valid')\n",
        "pyplot.show()\n",
        "\n",
        "\n",
        "#savemat('validate_data16031511.mat',{'input':data_input[0:10,:,:,:],'output':predicted_output_train,'target':data_target[0:10,:,:]})"
      ]
    }
  ],
  "metadata": {
    "accelerator": "GPU",
    "colab": {
      "machine_shape": "hm",
      "provenance": [],
      "authorship_tag": "ABX9TyOjYuW9SN9kWoTeBF/r4zBS",
      "include_colab_link": true
    },
    "gpuClass": "standard",
    "kernelspec": {
      "display_name": "Python 3",
      "name": "python3"
    },
    "language_info": {
      "name": "python"
    }
  },
  "nbformat": 4,
  "nbformat_minor": 0
}